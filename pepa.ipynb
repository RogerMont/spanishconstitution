{
 "cells": [
  {
   "cell_type": "code",
   "execution_count": null,
   "metadata": {
    "collapsed": true
   },
   "outputs": [],
   "source": [
    "#Variables\n",
    "\n",
    "#Original text\n",
    "pdfpath='./pepa.pdf'\n",
    "#Txt files with words to omit\n",
    "archivos=('conjunciones.txt','determinantes.txt','preposiciones.txt','pronombres.txt')\n",
    "#More words to omit\n",
    "afegir=('artículo','al','del')\n",
    "#Shape of wordcloud\n",
    "imgpath='./mask.png'\n",
    "#WordCloud properties\n",
    "color=\"white\"\n",
    "max_words=2000\n",
    "width=1920\n",
    "height=1080\n",
    "#Wordcloud file\n",
    "folder='./WordCloud.png'\n",
    "#Check¿?\n",
    "check=True"
   ]
  },
  {
   "cell_type": "code",
   "execution_count": null,
   "metadata": {},
   "outputs": [],
   "source": [
    "#Extract text from PDF\n",
    "import PyPDF2\n",
    "pdfFileObj = open(pdfpath,'rb')     #'rb' for read binary mode\n",
    "pdfReader = PyPDF2.PdfFileReader(pdfFileObj)\n",
    "pages=pdfReader.numPages\n",
    "text=str()\n",
    "for i in range(pages):\n",
    "    pageObj = pdfReader.getPage(i)          \n",
    "    new_text=pageObj.extractText()\n",
    "    text=str.join(' ', (text, new_text))\n",
    "\n",
    "if check:\n",
    "    print(text)"
   ]
  },
  {
   "cell_type": "code",
   "execution_count": null,
   "metadata": {},
   "outputs": [],
   "source": [
    "#Create a set with all words to omit\n",
    "palabras=set()\n",
    "from os import path\n",
    "for i in archivos:\n",
    "    f=open(path.join('./', i))\n",
    "    for line in f:\n",
    "        pal=line.split(' ')[0]\n",
    "        if pal.endswith('\\n'):\n",
    "            pal=pal[:-1]\n",
    "        palabras.add(pal.split('\\\\')[0].lower()) # add only first word with lowercases\n",
    "\n",
    "if check:\n",
    "        print(palabras)"
   ]
  },
  {
   "cell_type": "code",
   "execution_count": null,
   "metadata": {},
   "outputs": [],
   "source": [
    "#Add the following words\n",
    "for i in afegir:\n",
    "    palabras.add(i)\n",
    "    \n",
    "if check:\n",
    "    print(palabras)"
   ]
  },
  {
   "cell_type": "code",
   "execution_count": null,
   "metadata": {},
   "outputs": [],
   "source": [
    "#Define Wordcloud\n",
    "from wordcloud import WordCloud\n",
    "import numpy as np\n",
    "from PIL import Image\n",
    "img = np.array(Image.open(imgpath))\n",
    "mmm = WordCloud(background_color=color, max_words=max_words, mask=img, stopwords=palabras, width=width, height=height)\n",
    "\n",
    "if check:\n",
    "    print(img)"
   ]
  },
  {
   "cell_type": "code",
   "execution_count": null,
   "metadata": {},
   "outputs": [],
   "source": [
    "#Generate and save\n",
    "mmm.generate(text.lower())\n",
    "mmm.to_file(folder)"
   ]
  },
  {
   "cell_type": "code",
   "execution_count": null,
   "metadata": {
    "collapsed": true
   },
   "outputs": [],
   "source": []
  },
  {
   "cell_type": "code",
   "execution_count": null,
   "metadata": {
    "collapsed": true
   },
   "outputs": [],
   "source": []
  }
 ],
 "metadata": {
  "kernelspec": {
   "display_name": "Python 3",
   "language": "python",
   "name": "python3"
  },
  "language_info": {
   "codemirror_mode": {
    "name": "ipython",
    "version": 3
   },
   "file_extension": ".py",
   "mimetype": "text/x-python",
   "name": "python",
   "nbconvert_exporter": "python",
   "pygments_lexer": "ipython3",
   "version": "3.6.1"
  }
 },
 "nbformat": 4,
 "nbformat_minor": 2
}
